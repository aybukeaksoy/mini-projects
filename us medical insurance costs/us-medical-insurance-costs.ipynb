{
 "cells": [
  {
   "cell_type": "markdown",
   "metadata": {},
   "source": [
    "# U.S. Medical Insurance Costs\n",
    "Through this project, the insurance costs data provided in the csv file will be examined by using Python. The goal is to understand the dataset and the relation between the attributes in insurance.csv file. "
   ]
  },
  {
   "cell_type": "code",
   "execution_count": null,
   "metadata": {},
   "outputs": [],
   "source": [
    "import csv"
   ]
  },
  {
   "cell_type": "markdown",
   "metadata": {},
   "source": [
    "The each attribute will be appended to their own lists and stored there to use for further analysise later on. \n",
    "There are 7 attributes in the dataset:\n",
    "- Age of the patient\n",
    "- Sex of the patient(female,male)\n",
    "- BMI(Body Mass Index) of the patient\n",
    "- Number of children of the patient \n",
    "- Smoking status of the patient(yes,no)\n",
    "- U.S Region of the patient(northeast,northwest,southeast,southwest)\n",
    "- Yearly medical insurance costs of the patient\n"
   ]
  },
  {
   "cell_type": "markdown",
   "metadata": {},
   "source": [
    "The below function called organize_data receives the attribute name(\"age\",\"sex\",\"bmi\",\"children\",\"smoker\",\"region\",\"charges\")as parameter and is created to append each attribute to different lists. "
   ]
  },
  {
   "cell_type": "code",
   "execution_count": 5,
   "metadata": {},
   "outputs": [],
   "source": [
    "def organize_data(attribute):\n",
    "    \n",
    "    with open(\"insurance.csv\",newline='') as insurance_csv:\n",
    "        attribute_list=[]\n",
    "        data=csv.DictReader(insurance_csv,delimiter=\",\")\n",
    "        for row in data:\n",
    "            attribute_list.append(row[attribute])\n",
    "    \n",
    "    return attribute_list\n",
    "        \n",
    "    "
   ]
  },
  {
   "cell_type": "markdown",
   "metadata": {},
   "source": [
    "Attribute lists can be seen by running the below cell."
   ]
  },
  {
   "cell_type": "code",
   "execution_count": 59,
   "metadata": {},
   "outputs": [],
   "source": [
    "ages=organize_data(\"age\")\n",
    "sexes=organize_data(\"sex\")\n",
    "bmis=organize_data(\"bmi\")\n",
    "number_of_children=organize_data(\"children\")\n",
    "smoking_statuses=organize_data(\"smoker\")\n",
    "regions=organize_data(\"region\")\n",
    "insurance_charges=organize_data(\"charges\")\n",
    "\n",
    "#print(ages)\n",
    "#print(sexes)\n",
    "#print(number_of_children)\n",
    "#print(smoking_statuses)\n",
    "#print(regions)\n",
    "#print(insurance_charges)"
   ]
  },
  {
   "cell_type": "markdown",
   "metadata": {},
   "source": [
    "Dataset can be examined in terms of:\n",
    "\n",
    "- The average age of patients\n",
    "- The percentage of male and female patients\n",
    "- The region which majority of patients are from\n",
    "- The percentage of male and female smokers\n",
    "- The average number of children patients have\n",
    "- The average yearly medical insurance costs of patients\n",
    "- The relation between the ages and the medical insurance charges\n",
    "- The relation between the sex and the medical insurance charges\n",
    "- The relation between the bmi and the medical insurance charges\n",
    "- The relation between the smoking statuses and the medical insurance charges"
   ]
  },
  {
   "cell_type": "markdown",
   "metadata": {},
   "source": [
    "The function below, calculates the average age of all individuals,females and males."
   ]
  },
  {
   "cell_type": "code",
   "execution_count": 46,
   "metadata": {},
   "outputs": [],
   "source": [
    "def calculate_average_age(ages,sexes):\n",
    "    \n",
    "    #converting the type of ages in ages list from string to integer\n",
    "    for i in range(len(ages)):\n",
    "        ages[i]=int(ages[i])\n",
    "    \n",
    "    #calculating the age average of all ind.\n",
    "    total_average=sum(ages)/len(ages)\n",
    "    \n",
    "    female_count=0\n",
    "    female_age_sum=0\n",
    "    male_count=0\n",
    "    male_age_sum=0\n",
    "    \n",
    "    #counting the number of females and males and adding their ages to\n",
    "    #female_age_sum and male_age_sum\n",
    "    for i in range(len(ages)):\n",
    "        if sexes[i]==\"male\":\n",
    "            male_count+=1\n",
    "            male_age_sum+=int(ages[i])\n",
    "        else:\n",
    "            female_count+=1\n",
    "            female_age_sum+=int(ages[i])\n",
    "    \n",
    "    #calculating the female and male age average\n",
    "    female_average=female_age_sum/female_count\n",
    "    male_average=male_age_sum/male_count\n",
    "    age_dict={\"overall average\":total_average,\"female average\":female_average,\"male average\":male_average}\n",
    "    return age_dict\n",
    "    "
   ]
  },
  {
   "cell_type": "markdown",
   "metadata": {},
   "source": [
    "By running the below cell, the averages can be seen."
   ]
  },
  {
   "cell_type": "code",
   "execution_count": 47,
   "metadata": {
    "scrolled": true
   },
   "outputs": [
    {
     "name": "stdout",
     "output_type": "stream",
     "text": [
      "The overall age average: 39.20702541106129\n",
      "The female age average: 39.503021148036254\n",
      "The male age average: 38.917159763313606\n"
     ]
    }
   ],
   "source": [
    "print(\"The overall age average:\",calculate_average_age(ages,sexes)[\"overall average\"])\n",
    "print(\"The female age average:\",calculate_average_age(ages,sexes)[\"female average\"])\n",
    "print(\"The male age average:\",calculate_average_age(ages,sexes)[\"male average\"])\n",
    "    "
   ]
  },
  {
   "cell_type": "markdown",
   "metadata": {},
   "source": [
    "The function below, calculates the number and percentage of female and male patients."
   ]
  },
  {
   "cell_type": "code",
   "execution_count": 48,
   "metadata": {},
   "outputs": [],
   "source": [
    "def calculate_sex_percentage(sexes):\n",
    "    \n",
    "    total=len(sexes)\n",
    "    female_count=sexes.count(\"female\")\n",
    "    male_count=sexes.count(\"male\")\n",
    "    \n",
    "    female_perc=female_count/total*100\n",
    "    male_perc=male_count/total*100\n",
    "    sexes_dict={\"female number\":female_count,\"male number\":male_count,\"female percentage\":female_perc,\"male percentage\":male_perc}\n",
    "    \n",
    "    return sexes_dict"
   ]
  },
  {
   "cell_type": "markdown",
   "metadata": {},
   "source": [
    "By running the below cell, results can be seen."
   ]
  },
  {
   "cell_type": "code",
   "execution_count": 49,
   "metadata": {},
   "outputs": [
    {
     "name": "stdout",
     "output_type": "stream",
     "text": [
      "The number of female patients: 662\n",
      "The number of male patients: 676\n",
      "The percentage of female patients: % 49.47683109118087\n",
      "The percentage of male patients: % 50.52316890881914\n"
     ]
    }
   ],
   "source": [
    "print(\"The number of female patients:\",calculate_sex_percentage(sexes)[\"female number\"])\n",
    "print(\"The number of male patients:\",calculate_sex_percentage(sexes)[\"male number\"])\n",
    "print(\"The percentage of female patients: %\",calculate_sex_percentage(sexes)[\"female percentage\"])\n",
    "print(\"The percentage of male patients: %\", calculate_sex_percentage(sexes)[\"male percentage\"])"
   ]
  },
  {
   "cell_type": "markdown",
   "metadata": {},
   "source": [
    "The function below, finds the number of patients that live in each region of US and shows which region the majority of patients live in.   "
   ]
  },
  {
   "cell_type": "code",
   "execution_count": 50,
   "metadata": {},
   "outputs": [],
   "source": [
    "def calculate_region(regions):\n",
    "    \n",
    "    total=len(regions)\n",
    "    region_list=[\"Northeast\",\"Northwest\",\"Southeast\",\"Southwest\"]\n",
    "    northeast=regions.count(\"northeast\")\n",
    "    northwest=regions.count(\"northwest\")\n",
    "    southeast=regions.count(\"southeast\")\n",
    "    southwest=regions.count(\"southwest\")\n",
    "    region_list2=[northeast,northwest,southeast,southwest]\n",
    "    \n",
    "    #finding where majority comes from\n",
    "    majority=region_list[region_list2.index(max(region_list2))]\n",
    "    \n",
    "    print(\"The number of patients living in:\\nNortheast of US:{}\\nNorthwest of US:{}\\nSoutheast of US:{}\\nSouthwest of US:{}\".format(northeast,northwest,southeast,southwest))\n",
    "    print(\"The majority is from:\",majority)"
   ]
  },
  {
   "cell_type": "markdown",
   "metadata": {},
   "source": [
    "By running the below cell, the results can be seen."
   ]
  },
  {
   "cell_type": "code",
   "execution_count": 51,
   "metadata": {},
   "outputs": [
    {
     "name": "stdout",
     "output_type": "stream",
     "text": [
      "The number of patients living in:\n",
      "Northeast of US:324\n",
      "Northwest of US:325\n",
      "Southeast of US:364\n",
      "Southwest of US:325\n",
      "The majority is from: Southeast\n"
     ]
    }
   ],
   "source": [
    "calculate_region(regions)"
   ]
  },
  {
   "cell_type": "markdown",
   "metadata": {},
   "source": [
    "The function below can be used to calculate the percentage of female and male smokers in all smokers. Also, the percentage of female smokers to all females and male smokers to all males can be calculated. "
   ]
  },
  {
   "cell_type": "code",
   "execution_count": 55,
   "metadata": {},
   "outputs": [],
   "source": [
    "def calculate_smoker_percentage(smoking_statuses,sexes):\n",
    "    \n",
    "    female_smoker=0\n",
    "    male_smoker=0\n",
    "    \n",
    "    for i in range(len(smoking_statuses)):\n",
    "        if smoking_statuses[i]==\"yes\" and sexes[i]==\"female\":\n",
    "            female_smoker+=1\n",
    "        elif smoking_statuses[i]==\"yes\" and sexes[i]==\"male\":\n",
    "            male_smoker+=1\n",
    "    \n",
    "    total_smoker=female_smoker+male_smoker\n",
    "    f_perc=female_smoker/total_smoker*100\n",
    "    m_perc=male_smoker/total_smoker*100\n",
    "    \n",
    "    #what percentage of females and males are smokers\n",
    "    female_number=calculate_sex_percentage(sexes)[\"female number\"]\n",
    "    male_number=calculate_sex_percentage(sexes)[\"male number\"]\n",
    "    all_f_perc=female_smoker/female_number*100\n",
    "    all_m_perc=male_smoker/male_number*100\n",
    "    \n",
    "    return [f_perc,m_perc,all_f_perc,all_m_perc]"
   ]
  },
  {
   "cell_type": "code",
   "execution_count": 57,
   "metadata": {},
   "outputs": [
    {
     "name": "stdout",
     "output_type": "stream",
     "text": [
      "The %41.97080291970803 of all smokers are female.\n",
      "The %58.02919708029197 of all smokers are male.\n",
      "The %17.371601208459214 of females are smokers.\n",
      "The %23.5207100591716 of males are smokers.\n"
     ]
    }
   ],
   "source": [
    "print(\"The %{} of all smokers are female.\".format(calculate_smoker_percentage(smoking_statuses,sexes)[0]))\n",
    "print(\"The %{} of all smokers are male.\".format(calculate_smoker_percentage(smoking_statuses,sexes)[1]))\n",
    "print(\"The %{} of females are smokers.\".format(calculate_smoker_percentage(smoking_statuses,sexes)[2]))\n",
    "print(\"The %{} of males are smokers.\".format(calculate_smoker_percentage(smoking_statuses,sexes)[3]))\n"
   ]
  },
  {
   "cell_type": "markdown",
   "metadata": {},
   "source": [
    "From above results according to our data sampling, it can be observed that the percentage of male smokers are more than female smokers."
   ]
  },
  {
   "cell_type": "markdown",
   "metadata": {},
   "source": [
    "The below function can be used to calculate both average number of children and yearly medical insurance costs of patients. "
   ]
  },
  {
   "cell_type": "code",
   "execution_count": 70,
   "metadata": {},
   "outputs": [],
   "source": [
    "def calculate_avg(lst):\n",
    "    \n",
    "    l=len(lst)\n",
    "    for i in range(l):\n",
    "        lst[i]=float(lst[i])\n",
    "    avg=sum(lst)/l\n",
    "    \n",
    "    return avg\n",
    "    \n",
    "    "
   ]
  },
  {
   "cell_type": "code",
   "execution_count": 71,
   "metadata": {
    "scrolled": true
   },
   "outputs": [
    {
     "name": "stdout",
     "output_type": "stream",
     "text": [
      "The average children number of patients are 1.0949177877429.\n",
      "The average yearly medical insurance cost of patients are 13270.422265141257.\n"
     ]
    }
   ],
   "source": [
    "print(\"The average children number of patients are {}.\".format(calculate_avg(number_of_children)))\n",
    "print(\"The average yearly medical insurance cost of patients are {}.\".format(calculate_avg(insurance_charges)))"
   ]
  },
  {
   "cell_type": "markdown",
   "metadata": {},
   "source": [
    "The relations between the attributes will be examined below:"
   ]
  },
  {
   "cell_type": "code",
   "execution_count": 72,
   "metadata": {},
   "outputs": [],
   "source": [
    "def relation_between(lst1,lst2,status):\n",
    "    \n",
    "    sum=0\n",
    "    count=0\n",
    "    for i in range(len(lst1)):\n",
    "        if lst2[i]==status:\n",
    "            sum+=float(lst1[i])\n",
    "            count+=1\n",
    "    return sum/count\n"
   ]
  },
  {
   "cell_type": "code",
   "execution_count": 77,
   "metadata": {
    "scrolled": true
   },
   "outputs": [
    {
     "name": "stdout",
     "output_type": "stream",
     "text": [
      "The average medical insurance cost of females are: 12569.57884383534\n",
      "The average medical insurance cost of males are: 13956.751177721886\n",
      "The average medical insurance cost of smokers are: 32050.23183153285\n",
      "The average medical insurance cost of non-smokers are: 8434.268297856199\n"
     ]
    }
   ],
   "source": [
    "print(\"The average medical insurance cost of females are:\",relation_between(insurance_charges,sexes,\"female\"))\n",
    "print(\"The average medical insurance cost of males are:\",relation_between(insurance_charges,sexes,\"male\"))\n",
    "print(\"The average medical insurance cost of smokers are:\",relation_between(insurance_charges,smoking_statuses,\"yes\"))\n",
    "print(\"The average medical insurance cost of non-smokers are:\",relation_between(insurance_charges,smoking_statuses,\"no\"))"
   ]
  },
  {
   "cell_type": "markdown",
   "metadata": {},
   "source": [
    "From results, it can be seen that the average medical insurance cost of smokers are about 3.8 times higher than non-smokers."
   ]
  },
  {
   "cell_type": "code",
   "execution_count": 95,
   "metadata": {},
   "outputs": [],
   "source": [
    "def age_cost_relation(insurance_charges,ages):\n",
    "    \n",
    "    young_adults_count=0\n",
    "    young_adults_sum=0\n",
    "    adults_count=0\n",
    "    adults_sum=0\n",
    "    \n",
    "    for i in range(len(ages)):\n",
    "        \n",
    "        if 18<=int(ages[i])<25:\n",
    "            young_adults_count+=1\n",
    "            young_adults_sum+=insurance_charges[i]\n",
    "        else:\n",
    "            adults_count+=1\n",
    "            adults_sum+=insurance_charges[i]\n",
    "            \n",
    "    young_adults_avg=young_adults_sum/young_adults_count\n",
    "    adults_avg=adults_sum/adults_count\n",
    "    \n",
    "    return young_adults_avg,adults_avg"
   ]
  },
  {
   "cell_type": "code",
   "execution_count": 99,
   "metadata": {},
   "outputs": [
    {
     "name": "stdout",
     "output_type": "stream",
     "text": [
      "The average medical insurance cost for patients between 18-24 years old is: 9011.340317334529\n",
      "The average medical insurance cost for patients between 25-64 years old is: 14387.426775981134\n"
     ]
    }
   ],
   "source": [
    "print(\"The average medical insurance cost for patients between 18-24 years old is:\",age_cost_relation(insurance_charges,ages)[0])\n",
    "print(\"The average medical insurance cost for patients between 25-64 years old is:\",age_cost_relation(insurance_charges,ages)[1])"
   ]
  },
  {
   "cell_type": "markdown",
   "metadata": {},
   "source": [
    "The medical insurance cost for adults(25-64) is about 1.6 times higher than young-adults(18-24). "
   ]
  },
  {
   "cell_type": "code",
   "execution_count": 105,
   "metadata": {},
   "outputs": [],
   "source": [
    "def bmi_cost_relation(bmis,insurance_charges):\n",
    "    uw_count=0\n",
    "    uw_sum=0\n",
    "    n_count=0\n",
    "    n_sum=0\n",
    "    ow_count=0\n",
    "    ow_sum=0\n",
    "    o_count=0\n",
    "    o_sum=0\n",
    "    eo_count=0\n",
    "    eo_sum=0\n",
    "    for i in range(len(bmis)):\n",
    "        if float(bmis[i])<18.5:\n",
    "            uw_count+=1\n",
    "            uw_sum+=insurance_charges[i]\n",
    "        elif float(bmis[i])<25:\n",
    "            n_count+=1\n",
    "            n_sum+=insurance_charges[i]\n",
    "        elif float(bmis[i])<30:\n",
    "            ow_count+=1\n",
    "            ow_sum+=insurance_charges[i]\n",
    "        elif float(bmis[i])<35:\n",
    "            o_count+=1\n",
    "            o_sum+=insurance_charges[i]\n",
    "        else:\n",
    "            eo_count+=1\n",
    "            eo_sum+=insurance_charges[i]\n",
    "    return uw_sum/uw_count,n_sum/n_count,ow_sum/ow_count,o_sum/o_count,eo_sum/eo_count"
   ]
  },
  {
   "cell_type": "code",
   "execution_count": 107,
   "metadata": {},
   "outputs": [
    {
     "name": "stdout",
     "output_type": "stream",
     "text": [
      "The average medical insurance cost for underweight patients is: 8852.200585000002\n",
      "The average medical insurance cost for normal weight patients is: 10409.337708977779\n",
      "The average medical insurance cost for overweight patients is: 10987.509891318654\n",
      "The average medical insurance cost for obese patients is: 14419.6749696931\n",
      "The average medical insurance cost for extremely obese patients is: 16953.82361816456\n"
     ]
    }
   ],
   "source": [
    "print(\"The average medical insurance cost for underweight patients is:\",bmi_cost_relation(bmis,insurance_charges)[0])\n",
    "print(\"The average medical insurance cost for normal weight patients is:\",bmi_cost_relation(bmis,insurance_charges)[1])\n",
    "print(\"The average medical insurance cost for overweight patients is:\",bmi_cost_relation(bmis,insurance_charges)[2])\n",
    "print(\"The average medical insurance cost for obese patients is:\",bmi_cost_relation(bmis,insurance_charges)[3])\n",
    "print(\"The average medical insurance cost for extremely obese patients is:\",bmi_cost_relation(bmis,insurance_charges)[4])"
   ]
  },
  {
   "cell_type": "markdown",
   "metadata": {},
   "source": [
    "As seen from the results, while bmis are getting higher, the average medical insurance cost is getting higher too."
   ]
  },
  {
   "cell_type": "code",
   "execution_count": null,
   "metadata": {},
   "outputs": [],
   "source": []
  }
 ],
 "metadata": {
  "kernelspec": {
   "display_name": "Python 3",
   "language": "python",
   "name": "python3"
  },
  "language_info": {
   "codemirror_mode": {
    "name": "ipython",
    "version": 3
   },
   "file_extension": ".py",
   "mimetype": "text/x-python",
   "name": "python",
   "nbconvert_exporter": "python",
   "pygments_lexer": "ipython3",
   "version": "3.8.3"
  }
 },
 "nbformat": 4,
 "nbformat_minor": 4
}
